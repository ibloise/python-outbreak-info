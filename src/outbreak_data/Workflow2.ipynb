{
 "cells": [
  {
   "cell_type": "code",
   "execution_count": 2,
   "id": "f1411464-e975-44be-8c28-2089c1a5ff8b",
   "metadata": {},
   "outputs": [],
   "source": [
    "import os\n",
    "os.chdir('/Users/sarahrandall/Python-outbreak-info/src/outbreak_data')\n",
    "import altair as alt\n",
    "import pandas as pd\n",
    "import outbreak_data as od"
   ]
  },
  {
   "cell_type": "markdown",
   "id": "dfd36e5d-7247-4911-b14d-eba9c9a3470e",
   "metadata": {},
   "source": [
    "### From Cryptic Variants: Freyja"
   ]
  },
  {
   "cell_type": "markdown",
   "id": "25f5c2c7-2d1e-48f6-9619-4854045df080",
   "metadata": {},
   "source": [
    "After collecting a sample and determining what sequences are present, we may have a list of several SARS-CoV-2 mutations that we can immediately say are characteristic of a specific variant. However in some cases, we also may have a mutation that is relatively uncommon in most other samples. \n",
    "For example, we can look at small data sample consisting of 10 mutations: (S:A67V, S:DEL69/70, S:E484A, S:N501Y, S:T572N, S:D614G, S:G142D  N:S2Y, S:Q52R, E:L21F, S:G593D). We’ll want a way to find more details about any mutation collected, such as whether we’ve seen the mutation before, when, and where that mutation came from.\n",
    "\n",
    "To start, we can use the Python outbreak API to determine which lineages a mutation has been found in. The `mutations_by_lineage()` function allows us to look at the clinical prevalence of a mutation and see which lineage it most likely belongs to. Let's try it for E:L21F:"
   ]
  },
  {
   "cell_type": "code",
   "execution_count": 36,
   "id": "232570ae-646b-40cc-9b6e-d5d6b6d0a560",
   "metadata": {},
   "outputs": [
    {
     "name": "stdout",
     "output_type": "stream",
     "text": [
      "    pangolin_lineage  lineage_count  mutation_count  proportion  \\\n",
      "0               ba.2        1228296             560    0.000456   \n",
      "1            b.1.1.7        1155169             844    0.000731   \n",
      "2             ba.1.1        1046121             268    0.000256   \n",
      "3               ay.4         861521             526    0.000611   \n",
      "4               ba.1         439838              49    0.000111   \n",
      "..               ...            ...             ...         ...   \n",
      "400          ba.2.77             63              48    0.761905   \n",
      "401        ba.5.2.54             55               2    0.036364   \n",
      "402          b.1.616             39               3    0.076923   \n",
      "403        b.1.1.386             20               1    0.050000   \n",
      "404        b.1.1.400             20              20    1.000000   \n",
      "\n",
      "     proportion_ci_lower  proportion_ci_upper  \n",
      "0               0.000419             0.000495  \n",
      "1               0.000683             0.000781  \n",
      "2               0.000227             0.000288  \n",
      "3               0.000560             0.000664  \n",
      "4               0.000083             0.000146  \n",
      "..                   ...                  ...  \n",
      "400             0.646596             0.853783  \n",
      "401             0.007632             0.111568  \n",
      "402             0.022142             0.191265  \n",
      "403             0.005449             0.210819  \n",
      "404             0.883361             0.999976  \n",
      "\n",
      "[405 rows x 6 columns]\n"
     ]
    }
   ],
   "source": [
    "import pandas as pd\n",
    "import outbreak_data as od\n",
    "\n",
    "lin1 = od.mutations_by_lineage(mutation='E:L21F')\n",
    "print(lin1)"
   ]
  },
  {
   "cell_type": "markdown",
   "id": "1a9e7277-36df-44fc-889a-22911fa328bb",
   "metadata": {},
   "source": [
    "This mutation has clearly been seen before in some previous lineages. We might be able recognize that most of the mutations in our list have been detected in older variants, as well as Omicron. However, S:G593D is relatively uncommon in most other samples. We can easily find out where and when it was detected:"
   ]
  },
  {
   "cell_type": "code",
   "execution_count": 3,
   "id": "545610b1-4a87-411b-841b-c27043720b36",
   "metadata": {},
   "outputs": [
    {
     "name": "stdout",
     "output_type": "stream",
     "text": [
      "  pangolin_lineage  lineage_count  mutation_count  proportion  \\\n",
      "0            xbb.1          28205               1    0.000035   \n",
      "\n",
      "   proportion_ci_lower  proportion_ci_upper  \n",
      "0             0.000004             0.000166  \n"
     ]
    }
   ],
   "source": [
    "import pandas as pd\n",
    "import outbreak_data as od\n",
    "\n",
    "#This shows what lineage the mutation is a part of\n",
    "lin1 = od.mutations_by_lineage(mutation='S:G593D')\n",
    "print(lin1)"
   ]
  },
  {
   "cell_type": "code",
   "execution_count": 6,
   "id": "9f411636-b850-47c5-aa20-e7eae620c074",
   "metadata": {},
   "outputs": [
    {
     "name": "stdout",
     "output_type": "stream",
     "text": [
      "                Values\n",
      "date        2022-12-12\n",
      "date_count           1\n"
     ]
    }
   ],
   "source": [
    "#This tells when it was last seen\n",
    "last_seen = od.collection_date('xbb.1', 'S:G593D')\n",
    "print(last_seen)"
   ]
  },
  {
   "cell_type": "markdown",
   "id": "430a3165-8609-4da9-bb24-095aa8a0174a",
   "metadata": {},
   "source": [
    "According to our data, S:G593D has only been detected once in a single sequence belonging to the xbb.1 lineage. The last time it was collected was back in December 2022. "
   ]
  },
  {
   "cell_type": "markdown",
   "id": "46e3c7f4-bbd1-45d5-a565-e76adf37dafb",
   "metadata": {},
   "source": [
    "Additionally `mutations_by_lineage` allows us to find out if there is a lineage where several mutations overlap. Selecting 7 of the mutations from our original list yields one lineage with all of these mutation characteristics:"
   ]
  },
  {
   "cell_type": "code",
   "execution_count": 26,
   "id": "0aaeb7b7-c05d-4390-9131-c526777d875a",
   "metadata": {},
   "outputs": [
    {
     "name": "stdout",
     "output_type": "stream",
     "text": [
      "  pangolin_lineage  lineage_count  mutation_count  proportion  \\\n",
      "0          ba.1.19           4587               1    0.000218   \n",
      "\n",
      "   proportion_ci_lower  proportion_ci_upper  \n",
      "0             0.000024             0.001019  \n"
     ]
    }
   ],
   "source": [
    "# Additionally, we can find out if there is a lineage where several mutations overlap\n",
    "df = od.mutations_by_lineage(mutation='S:A67V, S:DEL69/70, S:E484A, S:N501Y, S:T572N, S:D614G, S:G142D')\n",
    "print(df)"
   ]
  },
  {
   "cell_type": "code",
   "execution_count": null,
   "id": "8ce20937-ce02-479a-859c-941824f8308b",
   "metadata": {},
   "outputs": [],
   "source": []
  }
 ],
 "metadata": {
  "kernelspec": {
   "display_name": "Python 3 (ipykernel)",
   "language": "python",
   "name": "python3"
  },
  "language_info": {
   "codemirror_mode": {
    "name": "ipython",
    "version": 3
   },
   "file_extension": ".py",
   "mimetype": "text/x-python",
   "name": "python",
   "nbconvert_exporter": "python",
   "pygments_lexer": "ipython3",
   "version": "3.9.13"
  }
 },
 "nbformat": 4,
 "nbformat_minor": 5
}
