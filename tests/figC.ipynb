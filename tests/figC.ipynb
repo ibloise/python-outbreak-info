{
 "cells": [
  {
   "cell_type": "markdown",
   "metadata": {},
   "source": [
    "#### Plotting Lineage Prevalence"
   ]
  },
  {
   "cell_type": "markdown",
   "metadata": {},
   "source": [
    "In this example, we will show how to plot the prevalence of a specific lineage from both wastewater and clinical data. Before starting make sure the Python-outbreak-data package is up-to-date and import all necessary plotting and data analysis packages. Here are the ones we used for this plot:"
   ]
  },
  {
   "cell_type": "code",
   "execution_count": 47,
   "metadata": {
    "id": "PBLow6xEpaYV"
   },
   "outputs": [],
   "source": [
    "import scipy\n",
    "import numpy as np\n",
    "import pandas as pd\n",
    "import matplotlib\n",
    "import matplotlib.pyplot as plt\n",
    "from matplotlib.colors import hsv_to_rgb\n",
    "import matplotlib.dates as mdates\n",
    "\n",
    "matplotlib.rcParams['hatch.linewidth'] = 0.5\n",
    "matplotlib.rcParams['font.family'] ='sans-serif'\n",
    "locator = mdates.MonthLocator(bymonthday=1)\n"
   ]
  },
  {
   "cell_type": "markdown",
   "metadata": {},
   "source": [
    "Authenticate your credentials in GISAID if you haven't done so yet."
   ]
  },
  {
   "cell_type": "code",
   "execution_count": 26,
   "metadata": {
    "id": "O-7EhlDkpNjl"
   },
   "outputs": [
    {
     "name": "stdout",
     "output_type": "stream",
     "text": [
      "Please open this url in a web browswer and authenticate with your GISAID credentials:  https://gpsapi.epicov.org/epi3/gps_authenticate/NAJZETKQAROFSFMUHVKTQPVITAKOHMDYPXQSWSZNIIJMHORZQJFNLOJVUETSJVRUHPWXVUJYXUPTFHOMRJTGNTJRYWKKWCYQKGVLFVTMCLFOZXCXHCEFQWMNCLEAXIOO\n",
      "Waiting for authorization response... [Press Ctrl-C to abort]\n",
      "Authenication failed, trying again in 5 seconds...\n",
      "Waiting for authorization response... [Press Ctrl-C to abort]\n",
      "Authenticated successfully!\n",
      "\n",
      "    TERMS OF USE for Python Package and\n",
      "    Reminder of GISAID's Database Access Agreement\n",
      "    Your ability to access and use Data in GISAID, including your access and\n",
      "    use of same via R Package, is subject to the terms and conditions of\n",
      "    GISAID's Database Access Agreement (“DAA”) (which you agreed to\n",
      "    when you requested access credentials to GISAID), as well as the\n",
      "    following terms:\n",
      "    1. You will treat all data contained in the R Package consistent with\n",
      "    other Data in GISAID and in accordance with GISAID's Database Access\n",
      "    Agreement;\n",
      "    2. You will not distribute, or re-distribute Data made available through\n",
      "    GISAID to any third party other than Authorized Users as contemplated by\n",
      "    the DAA;\n",
      "    3. USE OF R PACKAGE: Any visualizations, charts, graphs,\n",
      "    graphics, pictographs, plots, or other displays you create via the R\n",
      "    Package may be exclusively used for academic and research purposes.\n",
      "    No other types of uses are allowed;\n",
      "    4. Any use of visualizations, charts, graphs, graphics, pictographs,\n",
      "    plots, or other displays created via the R Package in an academic or\n",
      "    research publication, including in a paper, manuscript, preprint, website,\n",
      "    web service, or any other media material must be in conformity with the\n",
      "    GISAID Publishing Guidelines, available at https://www.gisaid.org/publish,\n",
      "    and the DAA, available at https://www.gisaid.org/daa; and\n",
      "    5. By using the R Package you reaffirm your understanding of these\n",
      "    terms and the DAA.\n",
      "    When using this data, please state, \"This data was obtained from GISAID via the outbreak.info API\". \n",
      "    WE DO NOT SUPPORT THIRD PARTY APPLICATIONS. THIS PACKAGE IS MEANT FOR RESEARCH AND VISUALIZATION PURPOSES ONLY. \n",
      "    If you want to build third party applications, please contact GISAID via https://www.gisaid.org/help/contact/.\n"
     ]
    }
   ],
   "source": [
    "from outbreak_data import authenticate_user\n",
    "authenticate_user.authenticate_new_user()"
   ]
  },
  {
   "cell_type": "code",
   "execution_count": 49,
   "metadata": {
    "id": "BvhKR8MNpjtN"
   },
   "outputs": [],
   "source": [
    "from outbreak_data import outbreak_data\n",
    "from outbreak_tools import outbreak_tools\n",
    "from outbreak_tools import outbreak_clustering"
   ]
  },
  {
   "cell_type": "code",
   "execution_count": 51,
   "metadata": {},
   "outputs": [],
   "source": [
    "# Saves and plots figure\n",
    "def plot_out(fname):\n",
    "    plt.savefig(fname, format='pdf', bbox_inches='tight')\n",
    "    plt.show();\n",
    "\n",
    "# Smooths data for plotting - required\n",
    "def binom_kernel(n, squeeze=0):\n",
    "    return np.array([scipy.special.binom(n+2*squeeze, x) for x in np.arange(n)+squeeze])\n",
    "    \n",
    "smooth = binom_kernel(7*5, 35) "
   ]
  },
  {
   "cell_type": "markdown",
   "metadata": {
    "id": "BBxi6GTjpzHD"
   },
   "source": [
    "#### Pull wastewater and clinical data"
   ]
  },
  {
   "cell_type": "markdown",
   "metadata": {},
   "source": [
    "First specify the location and date range for analysis and collect the daily lineage and mutation data from the wastewater samples. Then do the same for the clinical data."
   ]
  },
  {
   "cell_type": "code",
   "execution_count": 52,
   "metadata": {
    "id": "UEBeLytmpwGA"
   },
   "outputs": [],
   "source": [
    "state = \"California\"\n",
    "state_id = 'USA_US-CA'\n",
    "startdate, enddate = \"2023-09-02\", \"2024-01-02\"\n",
    "ww_samples = outbreak_data.get_wastewater_samples(region=state, date_range=[startdate, enddate], server='dev.outbreak.info')\n",
    "ww_lineages = outbreak_data.get_wastewater_lineages(ww_samples, server='dev.outbreak.info')"
   ]
  },
  {
   "cell_type": "code",
   "execution_count": 53,
   "metadata": {
    "id": "gSW6tqiqrhrD"
   },
   "outputs": [],
   "source": [
    "ww_prevalences = outbreak_tools.datebin_and_agg(ww_lineages, weights=outbreak_tools.get_ww_weights(ww_lineages), startdate=startdate, enddate=enddate, freq='7D', rolling=[1,4,1], log=False)\n",
    "ww_prevalences_daily_unsmoothed = outbreak_tools.datebin_and_agg(ww_lineages, weights=outbreak_tools.get_ww_weights(ww_lineages), startdate=startdate, enddate=enddate, freq='D', rolling=1, log=False)\n",
    "ww_prevalences_daily, ww_prevalences_daily_varis = outbreak_tools.datebin_and_agg(ww_lineages, weights=outbreak_tools.get_ww_weights(ww_lineages), startdate=startdate, enddate=enddate, freq='D', rolling=smooth, log=False, variance=True)"
   ]
  },
  {
   "cell_type": "code",
   "execution_count": 54,
   "metadata": {
    "id": "_hU0grPRqEtF"
   },
   "outputs": [],
   "source": [
    "clinical_samples = outbreak_data.all_lineage_prevalences(location=state_id, other_threshold=0.0, nday_threshold=1)\n",
    "clinical_prevalences = outbreak_tools.datebin_and_agg(clinical_samples, weights=clinical_samples['total_count'], startdate=startdate, enddate=enddate, freq='7D', rolling=[1,4,1])\n",
    "clinical_prevalences_daily_unsmoothed = outbreak_tools.datebin_and_agg(clinical_samples, weights=clinical_samples['total_count'], startdate=startdate, enddate=enddate, rolling=1, freq='D', log=False)\n",
    "clinical_prevalences_daily, clinical_prevalences_daily_varis = outbreak_tools.datebin_and_agg(clinical_samples, weights=clinical_samples['total_count'], startdate=startdate, enddate=enddate, rolling=smooth, freq='D', log=False, variance=True)"
   ]
  },
  {
   "cell_type": "markdown",
   "metadata": {
    "id": "pio7uVdRqIfg"
   },
   "source": [
    "#### Get the lineage tree data"
   ]
  },
  {
   "cell_type": "markdown",
   "metadata": {},
   "source": [
    "To group the wastewater data properly for graphing, we need to get lineage data from the pre-parsed lineage tree (derived from the Pangolin project). This will help us organize and cluster lineages later."
   ]
  },
  {
   "cell_type": "code",
   "execution_count": 55,
   "metadata": {
    "id": "UiDTSwvsqLAW"
   },
   "outputs": [],
   "source": [
    "tree = outbreak_clustering.get_compressed_tree()\n",
    "lineage_key = outbreak_clustering.get_lineage_key(tree)"
   ]
  },
  {
   "cell_type": "code",
   "execution_count": 56,
   "metadata": {},
   "outputs": [],
   "source": [
    "samples_per_site = ww_samples['sra_accession'].groupby(ww_samples['collection_site_id']).nunique()\n",
    "\n",
    "date_range_per_site = ww_samples.index.to_series().apply(pd.to_datetime).groupby(ww_samples['collection_site_id']) #.apply(pd.to_datetime)\n",
    "date_range_per_site = date_range_per_site.apply(lambda x: x.max() - x.min())\n",
    "\n",
    "sites_for_vl = (date_range_per_site.apply(lambda x: x.days >= 14)) & (samples_per_site >= 3)\n",
    "samples_for_vl = ww_samples[ww_samples['collection_site_id'].isin(list(sites_for_vl.index[sites_for_vl]))]"
   ]
  },
  {
   "cell_type": "markdown",
   "metadata": {
    "id": "5AwfrVK9qRf1"
   },
   "source": [
    "#### Cluster lineages "
   ]
  },
  {
   "cell_type": "markdown",
   "metadata": {},
   "source": [
    "Next we'll need to fetch and aggregate the viral load sample data to get our wastewater prevalence data. "
   ]
  },
  {
   "cell_type": "code",
   "execution_count": 57,
   "metadata": {
    "id": "RQZqFobuqPyJ"
   },
   "outputs": [],
   "source": [
    "viral_load = samples_for_vl.set_index(pd.Series(['viral_load'] * len(samples_for_vl)), append=True)\n",
    "\n",
    "c = 'normed_viral_load'\n",
    "viral_load_weekly, _ = outbreak_tools.datebin_and_agg(viral_load, weights=viral_load['ww_population'].fillna(1000), startdate=startdate, enddate=enddate, freq='7D', column=c, norm=False, rolling=[1,4,1], log=False, variance=True)\n",
    "viral_load_weekly = viral_load_weekly['viral_load']"
   ]
  },
  {
   "cell_type": "markdown",
   "metadata": {},
   "source": [
    "Now we generate clustered groups given our prevalence and lineage tree data."
   ]
  },
  {
   "cell_type": "code",
   "execution_count": 58,
   "metadata": {
    "id": "uk8EX6wSqXC6"
   },
   "outputs": [],
   "source": [
    "ww_prev_data = ww_prevalences.mul(viral_load_weekly, axis=0).sum()\n",
    "clinical_prev_data = clinical_prevalences.mul(viral_load_weekly, axis=0).sum()\n",
    "\n",
    "ww_clusters = outbreak_clustering.cluster_lineages(ww_prev_data, tree, lineage_key=lineage_key, n=10, alpha=0.25)\n",
    "cl_clusters = outbreak_clustering.cluster_lineages(clinical_prev_data, tree, lineage_key=lineage_key, n=10, alpha=0.25)"
   ]
  },
  {
   "cell_type": "markdown",
   "metadata": {},
   "source": [
    "#### Preparing clustered daily prevalence data for plotting"
   ]
  },
  {
   "cell_type": "markdown",
   "metadata": {},
   "source": [
    "Next we want to apply these clusters to our clustered clinical and wastewater data. We can use this to get daily prevalences for this visual. "
   ]
  },
  {
   "cell_type": "code",
   "execution_count": 72,
   "metadata": {},
   "outputs": [],
   "source": [
    "clustered_cl_prevalences_daily_unsmoothed, _, _ = outbreak_tools.cluster_df(clinical_prevalences_daily_unsmoothed.fillna(0), cl_clusters, tree, lineage_key)\n",
    "clustered_cl_prevalences_daily, _, _ = outbreak_tools.cluster_df(clinical_prevalences_daily.fillna(0), cl_clusters, tree, lineage_key)\n",
    "clustered_cl_prevalences_daily_varis, _, _ = outbreak_tools.cluster_df(clinical_prevalences_daily_varis.fillna(0), cl_clusters, tree, lineage_key, norm=False)\n",
    "\n",
    "clustered_ww_prevalences_daily_unsmoothed, _, _ = outbreak_tools.cluster_df(ww_prevalences_daily_unsmoothed.fillna(0), ww_clusters, tree, lineage_key)\n",
    "clustered_ww_prevalences_daily, _, _ = outbreak_tools.cluster_df(ww_prevalences_daily.fillna(0), ww_clusters, tree, lineage_key)\n",
    "clustered_ww_prevalences_daily_varis, _, _ = outbreak_tools.cluster_df(ww_prevalences_daily_varis.fillna(0), ww_clusters, tree, lineage_key, norm=False)"
   ]
  },
  {
   "cell_type": "markdown",
   "metadata": {
    "id": "6dvxAUOXqu8B"
   },
   "source": [
    "#### Lineage Prevalence Graph"
   ]
  },
  {
   "cell_type": "markdown",
   "metadata": {},
   "source": [
    "Use this function to ensure the data is normalzed for the graph."
   ]
  },
  {
   "cell_type": "code",
   "execution_count": null,
   "metadata": {},
   "outputs": [],
   "source": [
    "# Normalizing data \n",
    "def lognorm_ci(x, r):\n",
    "    return (np.exp(np.log(x)-(r**0.5/x)), np.exp(np.log(x)+(r**0.5/x)))"
   ]
  },
  {
   "cell_type": "markdown",
   "metadata": {},
   "source": [
    "With our clustered wastewater and prevalence data, we can now apply this to any lineage of our choice. We'll pick one from the clinical data set and graph the prevalence data."
   ]
  },
  {
   "cell_type": "code",
   "execution_count": 74,
   "metadata": {},
   "outputs": [],
   "source": [
    "lin = clustered_ww_prevalences.columns[-1] # Refers to lineage XBB.1.9.2.5.1.6.1 "
   ]
  },
  {
   "cell_type": "code",
   "execution_count": 75,
   "metadata": {},
   "outputs": [
    {
     "data": {
      "image/png": "[encoded data removed]",
      "text/plain": [
       "<Figure size 640x480 with 1 Axes>"
      ]
     },
     "metadata": {},
     "output_type": "display_data"
    }
   ],
   "source": [
    "_,ax = plt.subplots()\n",
    "l,u = lognorm_ci(clustered_ww_prevalences_daily[lin], clustered_ww_prevalences_daily_varis[lin])\n",
    "ax.plot(clustered_ww_prevalences_daily.index.mid, clustered_ww_prevalences_daily[lin], label=f'wastewater {lin}')\n",
    "ax.fill_between(clustered_ww_prevalences_daily.index.mid, l, u, alpha=0.3, zorder=-1)\n",
    "\n",
    "l,u = lognorm_ci(clustered_cl_prevalences_daily[lin], clustered_cl_prevalences_daily_varis[lin])\n",
    "ax.plot(clustered_cl_prevalences_daily.index.mid, clustered_cl_prevalences_daily[lin], label=f'clinical {lin}')\n",
    "ax.fill_between(clustered_cl_prevalences_daily.index.mid, l, u, alpha=0.3, zorder=-1)\n",
    "\n",
    "ax.set_ylim(0, 1)\n",
    "ax.set_ylabel('Lineage prevalence')\n",
    "ax.xaxis.set_major_locator(locator)\n",
    "ax.xaxis.set_major_formatter(mdates.ConciseDateFormatter(locator))\n",
    "ax.legend(loc='upper left')\n",
    "ax.spines[['right', 'top']].set_visible(False)\n",
    "plt.title(f'{state} Lineage Prevalence (daily rolling)')\n",
    "plot_out('lin_prev_plot_rolling.pdf')"
   ]
  }
 ],
 "metadata": {
  "colab": {
   "provenance": []
  },
  "kernelspec": {
   "display_name": "Python 3 (ipykernel)",
   "language": "python",
   "name": "python3"
  },
  "language_info": {
   "codemirror_mode": {
    "name": "ipython",
    "version": 3
   },
   "file_extension": ".py",
   "mimetype": "text/x-python",
   "name": "python",
   "nbconvert_exporter": "python",
   "pygments_lexer": "ipython3",
   "version": "3.9.13"
  }
 },
 "nbformat": 4,
 "nbformat_minor": 4
}
