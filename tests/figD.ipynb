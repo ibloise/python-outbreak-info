{
 "cells": [
  {
   "cell_type": "markdown",
   "metadata": {},
   "source": [
    "#### Plotting Mutation Prevalence Data"
   ]
  },
  {
   "cell_type": "markdown",
   "metadata": {},
   "source": [
    "In this example, we will show how to plot the prevalence of a specific mutation from wastewater and clinincal data. Before starting make sure the Python-outbreak-data package is up-to-date and import all necessary plotting and data analysis packages. Here are the ones we used for this plot:"
   ]
  },
  {
   "cell_type": "code",
   "execution_count": 1,
   "metadata": {
    "id": "PBLow6xEpaYV"
   },
   "outputs": [
    {
     "name": "stderr",
     "output_type": "stream",
     "text": [
      "/tmp/ipykernel_15155/3826763493.py:3: DeprecationWarning: \n",
      "Pyarrow will become a required dependency of pandas in the next major release of pandas (pandas 3.0),\n",
      "(to allow more performant data types, such as the Arrow string type, and better interoperability with other libraries)\n",
      "but was not found to be installed on your system.\n",
      "If this would cause problems for you,\n",
      "please provide us feedback at https://github.com/pandas-dev/pandas/issues/54466\n",
      "        \n",
      "  import pandas as pd\n"
     ]
    }
   ],
   "source": [
    "import scipy\n",
    "import numpy as np\n",
    "import pandas as pd\n",
    "import matplotlib\n",
    "import matplotlib.pyplot as plt\n",
    "from matplotlib.colors import hsv_to_rgb\n",
    "import matplotlib.dates as mdates\n",
    "\n",
    "matplotlib.rcParams['hatch.linewidth'] = 0.5\n",
    "matplotlib.rcParams['font.family'] ='sans-serif'\n",
    "locator = mdates.MonthLocator(bymonthday=1)\n"
   ]
  },
  {
   "cell_type": "markdown",
   "metadata": {},
   "source": [
    "Authenticate your credentials in GISAID if you haven't done so yet."
   ]
  },
  {
   "cell_type": "code",
   "execution_count": 2,
   "metadata": {
    "id": "O-7EhlDkpNjl"
   },
   "outputs": [
    {
     "name": "stdout",
     "output_type": "stream",
     "text": [
      "Please open this url in a web browswer and authenticate with your GISAID credentials:  https://gpsapi.epicov.org/epi3/gps_authenticate/GBBUGCCIZPWZYEEHIXOHUJSUURWYSBHSQDKPEEGHDSTEGXYGXLKVQUXQPLLSROGIFLQENCJOSKDDSXXLTJSMHKHMPBYMDYPNHWHUWTFAMTQTSAKDRDJNWXYSZVAAGCAS\n",
      "Waiting for authorization response... [Press Ctrl-C to abort]\n",
      "Authenticated successfully!\n",
      "\n",
      "    TERMS OF USE for Python Package and\n",
      "    Reminder of GISAID's Database Access Agreement\n",
      "    Your ability to access and use Data in GISAID, including your access and\n",
      "    use of same via R Package, is subject to the terms and conditions of\n",
      "    GISAID's Database Access Agreement (“DAA”) (which you agreed to\n",
      "    when you requested access credentials to GISAID), as well as the\n",
      "    following terms:\n",
      "    1. You will treat all data contained in the R Package consistent with\n",
      "    other Data in GISAID and in accordance with GISAID's Database Access\n",
      "    Agreement;\n",
      "    2. You will not distribute, or re-distribute Data made available through\n",
      "    GISAID to any third party other than Authorized Users as contemplated by\n",
      "    the DAA;\n",
      "    3. USE OF R PACKAGE: Any visualizations, charts, graphs,\n",
      "    graphics, pictographs, plots, or other displays you create via the R\n",
      "    Package may be exclusively used for academic and research purposes.\n",
      "    No other types of uses are allowed;\n",
      "    4. Any use of visualizations, charts, graphs, graphics, pictographs,\n",
      "    plots, or other displays created via the R Package in an academic or\n",
      "    research publication, including in a paper, manuscript, preprint, website,\n",
      "    web service, or any other media material must be in conformity with the\n",
      "    GISAID Publishing Guidelines, available at https://www.gisaid.org/publish,\n",
      "    and the DAA, available at https://www.gisaid.org/daa; and\n",
      "    5. By using the R Package you reaffirm your understanding of these\n",
      "    terms and the DAA.\n",
      "    When using this data, please state, \"This data was obtained from GISAID via the outbreak.info API\". \n",
      "    WE DO NOT SUPPORT THIRD PARTY APPLICATIONS. THIS PACKAGE IS MEANT FOR RESEARCH AND VISUALIZATION PURPOSES ONLY. \n",
      "    If you want to build third party applications, please contact GISAID via https://www.gisaid.org/help/contact/.\n"
     ]
    }
   ],
   "source": [
    "from outbreak_data import authenticate_user\n",
    "authenticate_user.authenticate_new_user()"
   ]
  },
  {
   "cell_type": "code",
   "execution_count": 3,
   "metadata": {
    "id": "BvhKR8MNpjtN"
   },
   "outputs": [],
   "source": [
    "from outbreak_data import outbreak_data\n",
    "from outbreak_tools import outbreak_tools\n",
    "from outbreak_tools import outbreak_clustering"
   ]
  },
  {
   "cell_type": "code",
   "execution_count": 4,
   "metadata": {},
   "outputs": [],
   "source": [
    "# Saves and plots figure\n",
    "\n",
    "def plot_out(fname):\n",
    "    plt.savefig(fname, format='pdf', bbox_inches='tight')\n",
    "    plt.show();\n",
    "\n",
    "# Smooths data for plotting - required\n",
    "\n",
    "def binom_kernel(n, squeeze=0):\n",
    "    return np.array([scipy.special.binom(n+2*squeeze, x) for x in np.arange(n)+squeeze])\n",
    "    \n",
    "smooth = binom_kernel(7*5, 35) # 21"
   ]
  },
  {
   "cell_type": "markdown",
   "metadata": {
    "id": "BBxi6GTjpzHD"
   },
   "source": [
    "#### Pull wastewater and clinical data"
   ]
  },
  {
   "cell_type": "markdown",
   "metadata": {},
   "source": [
    "First specify the location and date range for analysis and collect the daily lineage and mutation data from the wastewater samples. Then do the same for the clinical data."
   ]
  },
  {
   "cell_type": "code",
   "execution_count": 5,
   "metadata": {
    "id": "UEBeLytmpwGA"
   },
   "outputs": [],
   "source": [
    "state = \"California\"\n",
    "state_id = 'USA_US-CA'\n",
    "startdate, enddate = \"2023-09-02\", \"2024-01-02\"\n",
    "ww_samples = outbreak_data.get_wastewater_samples(region=state, date_range=[startdate, enddate], server='dev.outbreak.info')\n",
    "ww_lineages = outbreak_data.get_wastewater_lineages(ww_samples, server='dev.outbreak.info')\n",
    "ww_mutations = outbreak_data.get_wastewater_mutations(ww_samples, server='dev.outbreak.info')"
   ]
  },
  {
   "cell_type": "code",
   "execution_count": 6,
   "metadata": {
    "id": "gSW6tqiqrhrD"
   },
   "outputs": [],
   "source": [
    "#Aggregate daily ww data\n",
    "ww_prevalences = outbreak_tools.datebin_and_agg(ww_lineages, weights=outbreak_tools.get_ww_weights(ww_lineages), startdate=startdate, enddate=enddate, freq='7D', rolling=[1,4,1], log=False)\n",
    "ww_prevalences_daily_unsmoothed = outbreak_tools.datebin_and_agg(ww_lineages, weights=outbreak_tools.get_ww_weights(ww_lineages), startdate=startdate, enddate=enddate, freq='D', rolling=1, log=False)\n",
    "ww_prevalences_daily, ww_prevalences_daily_varis = outbreak_tools.datebin_and_agg(ww_lineages, weights=outbreak_tools.get_ww_weights(ww_lineages), startdate=startdate, enddate=enddate, freq='D', rolling=smooth, log=False, variance=True)"
   ]
  },
  {
   "cell_type": "code",
   "execution_count": 7,
   "metadata": {
    "id": "SDVkFC76qDkg"
   },
   "outputs": [],
   "source": [
    "# Pull and aggregate daily clinical lineage prevalence data\n",
    "clinical_samples = outbreak_data.all_lineage_prevalences(location=state_id, other_threshold=0.0, nday_threshold=1)\n",
    "clinical_prevalences = outbreak_tools.datebin_and_agg(clinical_samples, weights=clinical_samples['total_count'], startdate=startdate, enddate=enddate, freq='7D', rolling=[1,4,1])\n",
    "clinical_prevalences_daily_unsmoothed = outbreak_tools.datebin_and_agg(clinical_samples, weights=clinical_samples['total_count'], startdate=startdate, enddate=enddate, rolling=1, freq='D', log=False)\n",
    "clinical_prevalences_daily, clinical_prevalences_daily_varis = outbreak_tools.datebin_and_agg(clinical_samples, weights=clinical_samples['total_count'], startdate=startdate, enddate=enddate, rolling=smooth, freq='D', log=False, variance=True)"
   ]
  },
  {
   "cell_type": "markdown",
   "metadata": {},
   "source": [
    "Now we'll organize our previously retrieved sample data by date and site_id within our specified region to get the viral load sample data."
   ]
  },
  {
   "cell_type": "code",
   "execution_count": 8,
   "metadata": {},
   "outputs": [],
   "source": [
    "samples_per_site = ww_samples['sra_accession'].groupby(ww_samples['collection_site_id']).nunique()\n",
    "\n",
    "date_range_per_site = ww_samples.index.to_series().apply(pd.to_datetime).groupby(ww_samples['collection_site_id'])\n",
    "date_range_per_site = date_range_per_site.apply(lambda x: x.max() - x.min())\n",
    "\n",
    "sites_for_vl = (date_range_per_site.apply(lambda x: x.days >= 14)) & (samples_per_site >= 3)\n",
    "samples_for_vl = ww_samples[ww_samples['collection_site_id'].isin(list(sites_for_vl.index[sites_for_vl]))]"
   ]
  },
  {
   "cell_type": "markdown",
   "metadata": {},
   "source": [
    "#### Prepare mutation data for plotting"
   ]
  },
  {
   "cell_type": "markdown",
   "metadata": {},
   "source": [
    "The next step is to prepare the mutation data. We specify the mutation we are interested in and then we want to expand and include records for all plausibly scanned mutations. Note the mutation names may be different between wastewater and clinical data."
   ]
  },
  {
   "cell_type": "code",
   "execution_count": 9,
   "metadata": {},
   "outputs": [
    {
     "name": "stderr",
     "output_type": "stream",
     "text": [
      "/home/emory/code/python-outbreak-info/outrbeakpy_venv/lib/python3.11/site-packages/outbreak_tools/outbreak_tools.py:137: FutureWarning: The previous implementation of stack is deprecated and will be removed in a future version of pandas. See the What's New notes for pandas 2.1.0 for details. Specify future_stack=True to adopt the new implementation and silence this warning.\n",
      "  mutation_df = mutation_df.set_index(mutation_df['sra_accession'], append=True).unstack(1).stack(dropna=False)\n",
      "/home/emory/code/python-outbreak-info/outrbeakpy_venv/lib/python3.11/site-packages/outbreak_tools/outbreak_tools.py:139: FutureWarning: DataFrame.interpolate with object dtype is deprecated and will raise in a future version. Call obj.infer_objects(copy=False) before interpolating instead.\n",
      "  mutation_df = mutation_df_b.interpolate().bfill().ffill()\n"
     ]
    }
   ],
   "source": [
    "mut = '11042T'\n",
    "ww_mutations4 = outbreak_tools.infer_mutations(ww_mutations, [mut])"
   ]
  },
  {
   "cell_type": "markdown",
   "metadata": {},
   "source": [
    "Aggregate daily mutation data for wastewater and clinical data."
   ]
  },
  {
   "cell_type": "code",
   "execution_count": 10,
   "metadata": {
    "id": "9xYDYz8W2RTZ"
   },
   "outputs": [],
   "source": [
    "ww_muts_daily = outbreak_tools.datebin_and_agg(ww_mutations4, weights=outbreak_tools.get_ww_weights(ww_mutations4), startdate=startdate, enddate=enddate, freq='D', trustna=0.001, log=True, norm=False)\n",
    "ww_muts_daily_s, ww_muts_daily_vars = outbreak_tools.datebin_and_agg(ww_mutations4, weights=outbreak_tools.get_ww_weights(ww_mutations4), startdate=startdate, enddate=enddate, freq='D', rolling=smooth, trustna=0.001, variance=True, log=True, norm=False)"
   ]
  },
  {
   "cell_type": "code",
   "execution_count": 11,
   "metadata": {},
   "outputs": [],
   "source": [
    "#Collect and aggregate clinical prevalence data for all lineages with mutation ORF1a:V3593F\n",
    "cl_mut = outbreak_data.lineage_cl_prevalence(pango_lin='.', descendants=True, location=state_id, datemin=startdate, datemax=enddate, mutations='ORF1a:V3593F')\n",
    "cl_prev_unsmoothed = outbreak_tools.datebin_and_agg(cl_mut.rename(columns={'proportion': 'prevalence'}), norm=False, freq='D', rolling=1)\n",
    "cl_prev, cl_var = outbreak_tools.datebin_and_agg(cl_mut.rename(columns={'proportion': 'prevalence'}), norm=False, freq='D', rolling=smooth, variance=True)"
   ]
  },
  {
   "cell_type": "markdown",
   "metadata": {
    "id": "Ta8Gg0Mtqiej"
   },
   "source": [
    "#### wastewater plots"
   ]
  },
  {
   "cell_type": "markdown",
   "metadata": {},
   "source": [
    "Finally we normalize and plot the prevalence data for both wastewater and clinical datasets and plot the data."
   ]
  },
  {
   "cell_type": "code",
   "execution_count": 12,
   "metadata": {},
   "outputs": [],
   "source": [
    "# Normalize the data - required \n",
    "\n",
    "def lognorm_ci(x, r):\n",
    "    return (np.exp(np.log(x)-(r**0.5/x)), np.exp(np.log(x)+(r**0.5/x)))"
   ]
  },
  {
   "cell_type": "code",
   "execution_count": 13,
   "metadata": {
    "colab": {
     "base_uri": "https://localhost:8080/",
     "height": 452
    },
    "id": "b86syz4J78Oa",
    "outputId": "377207ca-2196-4ae9-ba4e-035f516892d1"
   },
   "outputs": [
    {
     "data": {
      "image/png": "[encoded data removed]",
      "text/plain": [
       "<Figure size 640x480 with 1 Axes>"
      ]
     },
     "metadata": {},
     "output_type": "display_data"
    }
   ],
   "source": [
    "_,ax = plt.subplots()\n",
    "\n",
    "l,u = lognorm_ci(ww_muts_daily_s, ww_muts_daily_vars)\n",
    "ax.plot(ww_muts_daily_s[mut].index.mid, ww_muts_daily_s[mut], label = 'wastewater')\n",
    "ax.fill_between(ww_muts_daily_s[mut].index.mid, l[mut], u[mut], alpha=0.3, zorder=-1)\n",
    "\n",
    "\n",
    "l,u = lognorm_ci(cl_prev, cl_var)\n",
    "ax.plot(cl_prev.index.mid, cl_prev, label = 'clinical')\n",
    "ax.fill_between(cl_var.index.mid, l.iloc[:,0], u.iloc[:,0], alpha=0.3, zorder=-1)\n",
    "\n",
    "ax.plot(ww_muts_daily.index.mid,ww_muts_daily[mut],'.',color='blue',clip_on=False)\n",
    "ax.plot(cl_prev_unsmoothed.index.mid,cl_prev_unsmoothed,'.',color='orange',clip_on=False)\n",
    "\n",
    "ax.spines[['right', 'top']].set_visible(False)\n",
    "ax.xaxis.set_major_locator(locator)\n",
    "ax.xaxis.set_major_formatter(mdates.ConciseDateFormatter(locator))\n",
    "\n",
    "ax.set_ylim([0,1.0])\n",
    "ax.set_title(f' Mutation {mut} Prevalence in {state} Wastewater')\n",
    "ax.set_ylabel('SNV Prevalence')\n",
    "\n",
    "plt.legend()\n",
    "plot_out('mut_prev_ww.pdf')"
   ]
  },
  {
   "cell_type": "code",
   "execution_count": null,
   "metadata": {},
   "outputs": [],
   "source": []
  },
  {
   "cell_type": "code",
   "execution_count": null,
   "metadata": {},
   "outputs": [],
   "source": []
  },
  {
   "cell_type": "code",
   "execution_count": null,
   "metadata": {},
   "outputs": [],
   "source": []
  }
 ],
 "metadata": {
  "colab": {
   "provenance": []
  },
  "kernelspec": {
   "display_name": "Python 3 (ipykernel)",
   "language": "python",
   "name": "python3"
  },
  "language_info": {
   "codemirror_mode": {
    "name": "ipython",
    "version": 3
   },
   "file_extension": ".py",
   "mimetype": "text/x-python",
   "name": "python",
   "nbconvert_exporter": "python",
   "pygments_lexer": "ipython3",
   "version": "3.11.5"
  }
 },
 "nbformat": 4,
 "nbformat_minor": 4
}
